{
 "cells": [
  {
   "cell_type": "markdown",
   "id": "d4047ff5",
   "metadata": {},
   "source": [
    "## Proyecto completo con varios endpoints, validaciones y conexión a base de datos"
   ]
  },
  {
   "cell_type": "markdown",
   "id": "63aaf4bb",
   "metadata": {},
   "source": [
    "Primero, clonar el repositorio"
   ]
  },
  {
   "cell_type": "code",
   "execution_count": 2,
   "id": "d0fee314",
   "metadata": {},
   "outputs": [
    {
     "ename": "SyntaxError",
     "evalue": "invalid syntax (2506123774.py, line 1)",
     "output_type": "error",
     "traceback": [
      "\u001b[0;36m  Cell \u001b[0;32mIn [2], line 1\u001b[0;36m\u001b[0m\n\u001b[0;31m    git clone https://github.com/edmon1024/workshop-api-asincrona-fastapi\u001b[0m\n\u001b[0m        ^\u001b[0m\n\u001b[0;31mSyntaxError\u001b[0m\u001b[0;31m:\u001b[0m invalid syntax\n"
     ]
    }
   ],
   "source": [
    "git clone https://github.com/edmon1024/workshop-api-ejemplo-fastapi"
   ]
  },
  {
   "cell_type": "markdown",
   "id": "599fe0fa",
   "metadata": {},
   "source": [
    "#### Estructura de carpetas"
   ]
  },
  {
   "cell_type": "markdown",
   "id": "df3be215",
   "metadata": {},
   "source": [
    "```\n",
    "├── app\n",
    "│   ├── db.py\n",
    "│   ├── __init__.py\n",
    "│   ├── main.py\n",
    "│   ├── schemas.py\n",
    "│   └── services.py\n",
    "├── db.sqlite3\n",
    "├── fastapi.log\n",
    "├── main.py\n",
    "├── poetry.lock\n",
    "├── pyproject.toml\n",
    "├── README.md\n",
    "└── settings.py\n",
    "```"
   ]
  },
  {
   "cell_type": "markdown",
   "id": "d8661c6b",
   "metadata": {},
   "source": [
    "#### Instalar dependencias"
   ]
  },
  {
   "cell_type": "code",
   "execution_count": 4,
   "id": "c4cd5f51",
   "metadata": {},
   "outputs": [
    {
     "ename": "SyntaxError",
     "evalue": "invalid syntax (2429143234.py, line 1)",
     "output_type": "error",
     "traceback": [
      "\u001b[0;36m  Cell \u001b[0;32mIn [4], line 1\u001b[0;36m\u001b[0m\n\u001b[0;31m    poetry install\u001b[0m\n\u001b[0m           ^\u001b[0m\n\u001b[0;31mSyntaxError\u001b[0m\u001b[0;31m:\u001b[0m invalid syntax\n"
     ]
    }
   ],
   "source": [
    "poetry install"
   ]
  },
  {
   "cell_type": "markdown",
   "id": "526c23df",
   "metadata": {},
   "source": [
    "#### Usar el entorno virtual"
   ]
  },
  {
   "cell_type": "code",
   "execution_count": 5,
   "id": "3a793034",
   "metadata": {},
   "outputs": [
    {
     "ename": "SyntaxError",
     "evalue": "invalid syntax (4154658878.py, line 1)",
     "output_type": "error",
     "traceback": [
      "\u001b[0;36m  Cell \u001b[0;32mIn [5], line 1\u001b[0;36m\u001b[0m\n\u001b[0;31m    poetry shell\u001b[0m\n\u001b[0m           ^\u001b[0m\n\u001b[0;31mSyntaxError\u001b[0m\u001b[0;31m:\u001b[0m invalid syntax\n"
     ]
    }
   ],
   "source": [
    "poetry shell"
   ]
  },
  {
   "cell_type": "markdown",
   "id": "3ca26624",
   "metadata": {},
   "source": [
    "#### Correr el proyecto"
   ]
  },
  {
   "cell_type": "code",
   "execution_count": 6,
   "id": "c5145dba",
   "metadata": {},
   "outputs": [
    {
     "ename": "SyntaxError",
     "evalue": "invalid syntax (1578409569.py, line 1)",
     "output_type": "error",
     "traceback": [
      "\u001b[0;36m  Cell \u001b[0;32mIn [6], line 1\u001b[0;36m\u001b[0m\n\u001b[0;31m    python main.py\u001b[0m\n\u001b[0m           ^\u001b[0m\n\u001b[0;31mSyntaxError\u001b[0m\u001b[0;31m:\u001b[0m invalid syntax\n"
     ]
    }
   ],
   "source": [
    "python main.py"
   ]
  },
  {
   "cell_type": "code",
   "execution_count": null,
   "id": "0702f528",
   "metadata": {},
   "outputs": [],
   "source": []
  }
 ],
 "metadata": {
  "kernelspec": {
   "display_name": "Python 3 (ipykernel)",
   "language": "python",
   "name": "python3"
  },
  "language_info": {
   "codemirror_mode": {
    "name": "ipython",
    "version": 3
   },
   "file_extension": ".py",
   "mimetype": "text/x-python",
   "name": "python",
   "nbconvert_exporter": "python",
   "pygments_lexer": "ipython3",
   "version": "3.10.6"
  }
 },
 "nbformat": 4,
 "nbformat_minor": 5
}
