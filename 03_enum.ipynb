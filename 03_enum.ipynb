{
 "cells": [
  {
   "cell_type": "markdown",
   "id": "8f285080",
   "metadata": {},
   "source": [
    "### Paquete Enum"
   ]
  },
  {
   "cell_type": "markdown",
   "id": "bda83f68",
   "metadata": {},
   "source": [
    "El paquete ```enum``` es parte de la biblioteca estándar de *Python 3* y permite crear clases que describen enumeradores.\n",
    "\n",
    "https://docs.python.org/3/library/enum.html"
   ]
  },
  {
   "cell_type": "markdown",
   "id": "0054aab4",
   "metadata": {},
   "source": [
    " Cada una de éstas puede ser utilizada como una superclase que define enumeradores.\n",
    " \n",
    " \n",
    " ```\n",
    " <SubClase>(Enum):\n",
    "    <NOMBRE 1> = <valor 1> \n",
    "    <NOMBRE 2> = <valor 2>\n",
    "    ...\n",
    "    ...\n",
    "    <NOMBRE n> = <valor n> \n",
    "    "
   ]
  },
  {
   "cell_type": "markdown",
   "id": "f6270f22",
   "metadata": {},
   "source": [
    "ejemplo:"
   ]
  },
  {
   "cell_type": "code",
   "execution_count": 2,
   "id": "e8cd4233",
   "metadata": {},
   "outputs": [],
   "source": [
    "from enum import Enum"
   ]
  },
  {
   "cell_type": "code",
   "execution_count": 14,
   "id": "ced1d28e",
   "metadata": {},
   "outputs": [],
   "source": [
    "class Countries(Enum):\n",
    "    USA = \"United States\"\n",
    "    MEXICO = \"Mexico\"\n",
    "    UK = \"United kingdom\""
   ]
  },
  {
   "cell_type": "code",
   "execution_count": 10,
   "id": "ad3bbb82",
   "metadata": {},
   "outputs": [
    {
     "name": "stdout",
     "output_type": "stream",
     "text": [
      "Help on class Countries in module __main__:\n",
      "\n",
      "class Countries(enum.Enum)\n",
      " |  Countries(value, names=None, *, module=None, qualname=None, type=None, start=1)\n",
      " |  \n",
      " |  An enumeration.\n",
      " |  \n",
      " |  Method resolution order:\n",
      " |      Countries\n",
      " |      enum.Enum\n",
      " |      builtins.object\n",
      " |  \n",
      " |  Data and other attributes defined here:\n",
      " |  \n",
      " |  MEXICO = <Countries.MEXICO: 'Mexico'>\n",
      " |  \n",
      " |  UK = <Countries.UK: 'United kingdom'>\n",
      " |  \n",
      " |  USA = <Countries.USA: 'United States'>\n",
      " |  \n",
      " |  ----------------------------------------------------------------------\n",
      " |  Data descriptors inherited from enum.Enum:\n",
      " |  \n",
      " |  name\n",
      " |      The name of the Enum member.\n",
      " |  \n",
      " |  value\n",
      " |      The value of the Enum member.\n",
      " |  \n",
      " |  ----------------------------------------------------------------------\n",
      " |  Readonly properties inherited from enum.EnumMeta:\n",
      " |  \n",
      " |  __members__\n",
      " |      Returns a mapping of member name->value.\n",
      " |      \n",
      " |      This mapping lists all enum members, including aliases. Note that this\n",
      " |      is a read-only view of the internal mapping.\n",
      "\n"
     ]
    }
   ],
   "source": [
    "help(Countries)"
   ]
  },
  {
   "cell_type": "code",
   "execution_count": 15,
   "id": "d56f4b37",
   "metadata": {},
   "outputs": [
    {
     "data": {
      "text/plain": [
       "<Countries.USA: 'United States'>"
      ]
     },
     "execution_count": 15,
     "metadata": {},
     "output_type": "execute_result"
    }
   ],
   "source": [
    "Countries.USA"
   ]
  },
  {
   "cell_type": "code",
   "execution_count": 16,
   "id": "20e1bb8c",
   "metadata": {},
   "outputs": [
    {
     "data": {
      "text/plain": [
       "'United States'"
      ]
     },
     "execution_count": 16,
     "metadata": {},
     "output_type": "execute_result"
    }
   ],
   "source": [
    "Countries.USA.value"
   ]
  },
  {
   "cell_type": "code",
   "execution_count": 18,
   "id": "1a71e6db",
   "metadata": {},
   "outputs": [
    {
     "data": {
      "text/plain": [
       "'USA'"
      ]
     },
     "execution_count": 18,
     "metadata": {},
     "output_type": "execute_result"
    }
   ],
   "source": [
    "Countries.USA.name"
   ]
  },
  {
   "cell_type": "code",
   "execution_count": null,
   "id": "408f6848",
   "metadata": {},
   "outputs": [],
   "source": []
  }
 ],
 "metadata": {
  "kernelspec": {
   "display_name": "Python 3 (ipykernel)",
   "language": "python",
   "name": "python3"
  },
  "language_info": {
   "codemirror_mode": {
    "name": "ipython",
    "version": 3
   },
   "file_extension": ".py",
   "mimetype": "text/x-python",
   "name": "python",
   "nbconvert_exporter": "python",
   "pygments_lexer": "ipython3",
   "version": "3.10.6"
  }
 },
 "nbformat": 4,
 "nbformat_minor": 5
}
