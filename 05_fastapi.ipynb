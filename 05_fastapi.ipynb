{
 "cells": [
  {
   "cell_type": "markdown",
   "metadata": {},
   "source": [
    "# El framework *FastAPI*."
   ]
  },
  {
   "cell_type": "markdown",
   "metadata": {},
   "source": [
    "[*FastAPI*](fastapi.tiangolo.com) es un proyecto mucho más reciente que *Django* y *Flask*, el cual ha adoptado varias innovaciones de *Python 3* y se ha enfocado en la creación y despliegue de *APIs*. A diferencia de los frameworks previos que se basaban fuertemente en el patrón *MVC* mediante aplicaciones web (*HTML*), *FastAPI* se enfoca en exponer modelos mediante *APIs* de servicios web, primordialmente *JSON*.\n",
    "\n",
    "*FastAPI* se basa en el framework [*Starlette*](https://www.starlette.io/), el cual le permite poder realizar operaciones asíncronas apegadas a la especificación de [*ASGI*](https://asgi.readthedocs.io/en/latest/). Del mismo modo, aprovecha las características de [*Pydantic*](https://pydantic-docs.helpmanual.io/) para el manejo de esquemas y validación de datos."
   ]
  },
  {
   "cell_type": "markdown",
   "metadata": {},
   "source": [
    "## Ventajas de *FastAPI*."
   ]
  },
  {
   "cell_type": "markdown",
   "metadata": {},
   "source": [
    "* Está basado en las técnicas y funcionalidades más modernas de *Python 3*.\n",
    "* Muy ligero y flexible.\n",
    "* Maneja decoradores de forma similar a *Flask*.\n",
    "* El *Content-Type* de las peticiones y respuestas de *FastAPI* es *JSON* por defecto.\n",
    "* Ya no estás diseñado sobre el patrón *MVC*.\n",
    "* Tiene implementados todos los métodos de *HTTP*.\n",
    "* Tiene implementada la inyección de dependencias.\n",
    "* Es lo suficientemente robusto para ser desplegado en entronos en producción.\n",
    "* Se autodocumenta con [*Swagger UI*](https://swagger.io/tools/swagger-ui/)."
   ]
  },
  {
   "cell_type": "markdown",
   "metadata": {},
   "source": [
    "## Desventajas de *FastAPI*."
   ]
  },
  {
   "cell_type": "markdown",
   "metadata": {},
   "source": [
    "* *Python 3* está evolucionando muy rápidamente en temas de tipado y por lo tanto esta evolución impacta a *FastAPI*.\n",
    "* No cuenta con tantas bibliotecas, extensiones y comunidades tan extensas como las de *Django* y *Flask*.\n",
    "* Los conceptos de comunicaciones asíncronas e inyección de dependencias son relativamente nuevos para un *framework* basado en *Python*."
   ]
  },
  {
   "cell_type": "markdown",
   "metadata": {},
   "source": [
    "## La clase ```fastapi.FastAPI```."
   ]
  },
  {
   "cell_type": "markdown",
   "metadata": {},
   "source": [
    "La clase ```fastapi.FastAPI``` es el componente que crea una aplicación al ser intanciado.\n",
    "\n",
    "``` pyhton\n",
    "from fastapi import FastAPI\n",
    "\n",
    "app = FastAPI()\n",
    "```\n",
    "\n",
    "Por convención, a una instancia de ```FastAPI``` se le da el nombre de ```app```. Durante el resto del curso se utilizará esta convención."
   ]
  },
  {
   "cell_type": "markdown",
   "metadata": {},
   "source": [
    "## Decoradores de ruta."
   ]
  },
  {
   "cell_type": "markdown",
   "metadata": {},
   "source": [
    "Un decorador de ruta permite definir el método *HTTP* y la ruta a la  que se le asignará una función de vista."
   ]
  },
  {
   "cell_type": "markdown",
   "metadata": {},
   "source": [
    "```\n",
    "@app.<método>(<ruta>, response_model=<esquema de salida>)\n",
    "async def <función>(<args>):\n",
    "   ...\n",
    "   ...\n",
    "   return <obj>\n",
    "\n",
    "```\n",
    "\n",
    "Donde:\n",
    "\n",
    "* ```<función>``` es el nombre de la función de vista que estará ligada a la ruta.\n",
    "* ```<método>``` es el método *HTTP* (en minúsculas) que se habilitará para la ruta.\n",
    "* ```<ruta>``` es una cadena de caracteres que define la ruta de aceso al recurso.\n",
    "* ```<esquema de salida>``` es un objeto basado generalmente en ```BaseModel``` de *pydantic* que transforma los datos que regresa la función de vista a un esquema.\n",
    "* ```<obj>``` es un objeto de Python que serializado en *JSON* y enviado como cuerpo del mensaje de respuiesta al clliente que hizo la petición.\n",
    "\n",
    "**Nota:** *FastAPI* acepta funciones tanto funciones síncronas como asíncronas y es capaz de detectar su naturaleza. "
   ]
  },
  {
   "cell_type": "markdown",
   "metadata": {},
   "source": [
    "``` python\n",
    "@app.get('/')\n",
    "async def hola_mundo():\n",
    "    return {\"msg\": \"Hola, Mundo.\"}\n",
    "```"
   ]
  },
  {
   "cell_type": "markdown",
   "metadata": {},
   "source": [
    "## Parámetros."
   ]
  },
  {
   "cell_type": "markdown",
   "metadata": {},
   "source": [
    "Tanto los parámetros de la ruta como los de las consultas pueden se capturados como *kwargs* en la función."
   ]
  },
  {
   "cell_type": "markdown",
   "metadata": {},
   "source": [
    "``` python\n",
    "@app.get('/{clave}')\n",
    "async def procesa_params(clave:str, par1:bool, par2:int):\n",
    "    \n",
    "```"
   ]
  },
  {
   "cell_type": "markdown",
   "metadata": {},
   "source": [
    "## Cuerpo de una petición.\n",
    "\n",
    "El cuerpo de una petición es el último argumento que se ingresa a una función y puede ser capturado usando esquemas de *pydantic*.\n",
    "\n",
    "\n",
    "``` python\n",
    "@app.get('/{clave}')\n",
    "async def procesa_params(clave:str, par1:bool, par2:int, body:int):\n"
   ]
  },
  {
   "cell_type": "code",
   "execution_count": 1,
   "metadata": {
    "scrolled": true
   },
   "outputs": [
    {
     "name": "stdout",
     "output_type": "stream",
     "text": [
      "Defaulting to user installation because normal site-packages is not writeable\n",
      "Collecting uvicorn\n",
      "  Downloading uvicorn-0.20.0-py3-none-any.whl (56 kB)\n",
      "\u001b[2K     \u001b[38;2;114;156;31m━━━━━━━━━━━━━━━━━━━━━━━━━━━━━━━━━━━━━━━\u001b[0m \u001b[32m56.9/56.9 kB\u001b[0m \u001b[31m874.8 kB/s\u001b[0m eta \u001b[36m0:00:00\u001b[0mMB/s\u001b[0m eta \u001b[36m0:00:01\u001b[0m\n",
      "\u001b[?25hCollecting fastapi\n",
      "  Downloading fastapi-0.87.0-py3-none-any.whl (55 kB)\n",
      "\u001b[2K     \u001b[38;2;114;156;31m━━━━━━━━━━━━━━━━━━━━━━━━━━━━━━━━━━━━━━━━\u001b[0m \u001b[32m55.5/55.5 kB\u001b[0m \u001b[31m5.4 MB/s\u001b[0m eta \u001b[36m0:00:00\u001b[0m\n",
      "\u001b[?25hRequirement already satisfied: click>=7.0 in /usr/lib/python3/dist-packages (from uvicorn) (8.0.3)\n",
      "Collecting h11>=0.8\n",
      "  Downloading h11-0.14.0-py3-none-any.whl (58 kB)\n",
      "\u001b[2K     \u001b[38;2;114;156;31m━━━━━━━━━━━━━━━━━━━━━━━━━━━━━━━━━━━━━━━━\u001b[0m \u001b[32m58.3/58.3 kB\u001b[0m \u001b[31m4.3 MB/s\u001b[0m eta \u001b[36m0:00:00\u001b[0m\n",
      "\u001b[?25hRequirement already satisfied: pydantic!=1.7,!=1.7.1,!=1.7.2,!=1.7.3,!=1.8,!=1.8.1,<2.0.0,>=1.6.2 in /home/eandrade/.local/lib/python3.10/site-packages (from fastapi) (1.10.2)\n",
      "Collecting starlette==0.21.0\n",
      "  Downloading starlette-0.21.0-py3-none-any.whl (64 kB)\n",
      "\u001b[2K     \u001b[38;2;114;156;31m━━━━━━━━━━━━━━━━━━━━━━━━━━━━━━━━━━━━━━━━\u001b[0m \u001b[32m64.0/64.0 kB\u001b[0m \u001b[31m4.4 MB/s\u001b[0m eta \u001b[36m0:00:00\u001b[0m\n",
      "\u001b[?25hRequirement already satisfied: anyio<5,>=3.4.0 in /home/eandrade/.local/lib/python3.10/site-packages (from starlette==0.21.0->fastapi) (3.6.2)\n",
      "Requirement already satisfied: typing-extensions>=4.1.0 in /home/eandrade/.local/lib/python3.10/site-packages (from pydantic!=1.7,!=1.7.1,!=1.7.2,!=1.7.3,!=1.8,!=1.8.1,<2.0.0,>=1.6.2->fastapi) (4.3.0)\n",
      "Requirement already satisfied: sniffio>=1.1 in /home/eandrade/.local/lib/python3.10/site-packages (from anyio<5,>=3.4.0->starlette==0.21.0->fastapi) (1.3.0)\n",
      "Requirement already satisfied: idna>=2.8 in /usr/lib/python3/dist-packages (from anyio<5,>=3.4.0->starlette==0.21.0->fastapi) (3.3)\n",
      "Installing collected packages: h11, uvicorn, starlette, fastapi\n",
      "Successfully installed fastapi-0.87.0 h11-0.14.0 starlette-0.21.0 uvicorn-0.20.0\n",
      "\n",
      "\u001b[1m[\u001b[0m\u001b[34;49mnotice\u001b[0m\u001b[1;39;49m]\u001b[0m\u001b[39;49m A new release of pip available: \u001b[0m\u001b[31;49m22.1.2\u001b[0m\u001b[39;49m -> \u001b[0m\u001b[32;49m22.3.1\u001b[0m\n",
      "\u001b[1m[\u001b[0m\u001b[34;49mnotice\u001b[0m\u001b[1;39;49m]\u001b[0m\u001b[39;49m To update, run: \u001b[0m\u001b[32;49m/usr/bin/python3 -m pip install --upgrade pip\u001b[0m\n"
     ]
    }
   ],
   "source": [
    "!pip install uvicorn fastapi"
   ]
  },
  {
   "cell_type": "markdown",
   "metadata": {},
   "source": [
    "## Ejecución de una aplicación con *Uvicorn*."
   ]
  },
  {
   "cell_type": "markdown",
   "metadata": {},
   "source": [
    "Las aplicaciones basadas en *FastAPI* no son ejecutadas directamente como en el caso de *Flask*, sino que es necesario ejecutarlas mediante un servidor como *Uvicorn*.\n",
    "\n",
    "*Uvicorn* puuede ser ejecutado como un comando de la *CLI* indicando dónde se encuentra la aplicación como si fuera una función dentro de un módulo.\n",
    "\n",
    "```\n",
    "uvicorn <modulo>:<función> --host <rango de IPs> --reload\n",
    "```\n",
    "\n",
    "https://www.uvicorn.org/deployment/"
   ]
  },
  {
   "cell_type": "markdown",
   "metadata": {},
   "source": [
    "**Ejemplo:**"
   ]
  },
  {
   "cell_type": "markdown",
   "metadata": {},
   "source": [
    "* Las siguientes celdas ejecutarán la aplicación usando *Uvicorn*. "
   ]
  },
  {
   "cell_type": "code",
   "execution_count": null,
   "metadata": {},
   "outputs": [],
   "source": [
    "!uvicorn main:app --host 0.0.0.0 --reload"
   ]
  }
 ],
 "metadata": {
  "kernelspec": {
   "display_name": "Python 3 (ipykernel)",
   "language": "python",
   "name": "python3"
  },
  "language_info": {
   "codemirror_mode": {
    "name": "ipython",
    "version": 3
   },
   "file_extension": ".py",
   "mimetype": "text/x-python",
   "name": "python",
   "nbconvert_exporter": "python",
   "pygments_lexer": "ipython3",
   "version": "3.10.6"
  }
 },
 "nbformat": 4,
 "nbformat_minor": 2
}
