{
 "cells": [
  {
   "cell_type": "markdown",
   "id": "16ca2ac6",
   "metadata": {},
   "source": [
    "# Instalación y configuración inicial\n",
    "\n",
    "Requisitos:\n",
    "- python\n",
    "- poetry\n",
    "- requests"
   ]
  },
  {
   "cell_type": "markdown",
   "id": "4dc8777e",
   "metadata": {},
   "source": [
    "### Verificar versión de python instalada"
   ]
  },
  {
   "cell_type": "code",
   "execution_count": 1,
   "id": "f1ec4635",
   "metadata": {},
   "outputs": [
    {
     "name": "stdout",
     "output_type": "stream",
     "text": [
      "Python 3.9.2\r\n"
     ]
    }
   ],
   "source": [
    "!python --version"
   ]
  },
  {
   "cell_type": "markdown",
   "id": "b2767aa6",
   "metadata": {},
   "source": [
    "### Instalación de nuestra primer dependencia: \n",
    "\n",
    "Docs: https://python-poetry.org/docs/#installation\n",
    "\n",
    "- poetry"
   ]
  },
  {
   "cell_type": "code",
   "execution_count": 1,
   "id": "56d29545",
   "metadata": {},
   "outputs": [
    {
     "name": "stdout",
     "output_type": "stream",
     "text": [
      "\u001b[36mRetrieving Poetry metadata\u001b[0m\n",
      "\n",
      "# Welcome to \u001b[36mPoetry\u001b[0m!\n",
      "\n",
      "This will download and install the latest version of \u001b[36mPoetry\u001b[0m,\n",
      "a dependency and package manager for Python.\n",
      "\n",
      "It will add the `poetry` command to \u001b[36mPoetry\u001b[0m's bin directory, located at:\n",
      "\n",
      "\u001b[33m/home/eandrade/.local/bin\u001b[0m\n",
      "\n",
      "You can uninstall at any time by executing this script with the --uninstall option,\n",
      "and these changes will be reverted.\n",
      "\n",
      "Installing \u001b[36mPoetry\u001b[0m (\u001b[36m1.2.2\u001b[0m)\n",
      "\u001b[1A\u001b[2KInstalling \u001b[36mPoetry\u001b[0m (\u001b[1m1.2.2\u001b[0m): \u001b[33mCreating environment\u001b[0m\n",
      "\u001b[1A\u001b[2KInstalling \u001b[36mPoetry\u001b[0m (\u001b[1m1.2.2\u001b[0m): \u001b[33mInstalling Poetry\u001b[0m\n",
      "\u001b[1A\u001b[2KInstalling \u001b[36mPoetry\u001b[0m (\u001b[1m1.2.2\u001b[0m): \u001b[33mCreating script\u001b[0m\n",
      "\u001b[1A\u001b[2KInstalling \u001b[36mPoetry\u001b[0m (\u001b[1m1.2.2\u001b[0m): \u001b[33mDone\u001b[0m\n",
      "\n",
      "\u001b[36mPoetry\u001b[0m (\u001b[1m1.2.2\u001b[0m) is installed now. Great!\n",
      "\n",
      "You can test that everything is set up by executing:\n",
      "\n",
      "`\u001b[1mpoetry --version\u001b[0m`\n",
      "\n"
     ]
    }
   ],
   "source": [
    "!curl -sSL https://install.python-poetry.org | python3 -"
   ]
  },
  {
   "cell_type": "markdown",
   "id": "c67765ee",
   "metadata": {},
   "source": [
    "### Verificamos que la instalación se haya realizado satisfactoriamente consultando la versión"
   ]
  },
  {
   "cell_type": "code",
   "execution_count": 2,
   "id": "d848f014",
   "metadata": {},
   "outputs": [
    {
     "name": "stdout",
     "output_type": "stream",
     "text": [
      "\u001b[39;1mPoetry\u001b[39;22m (version \u001b[36m1.2.2\u001b[39m)\r\n"
     ]
    }
   ],
   "source": [
    "!poetry --version"
   ]
  },
  {
   "cell_type": "code",
   "execution_count": 3,
   "id": "e15df285",
   "metadata": {},
   "outputs": [
    {
     "name": "stdout",
     "output_type": "stream",
     "text": [
      "/home/eandrade/repos/personal/workshop-api-asincrona-fastapi\r\n"
     ]
    }
   ],
   "source": [
    "!pwd"
   ]
  },
  {
   "cell_type": "markdown",
   "id": "1cda5e56",
   "metadata": {},
   "source": [
    "### Configuración inicial de poetry"
   ]
  },
  {
   "cell_type": "code",
   "execution_count": null,
   "id": "ca11ed70",
   "metadata": {
    "scrolled": true
   },
   "outputs": [
    {
     "name": "stdout",
     "output_type": "stream",
     "text": [
      "\r\n",
      "This command will guide you through creating your \u001b[34mpyproject.toml\u001b[39m config.\r\n",
      "\r\n",
      "\u001b[36mPackage name [\u001b[39m\u001b[32mworkshop-api-asincrona-fastapi\u001b[39m\u001b[36m]: \u001b[39m "
     ]
    }
   ],
   "source": [
    "!poetry init"
   ]
  },
  {
   "cell_type": "code",
   "execution_count": null,
   "id": "20ec3e8b",
   "metadata": {},
   "outputs": [],
   "source": [
    "!poetry add fastapi"
   ]
  },
  {
   "cell_type": "code",
   "execution_count": null,
   "id": "d7f5c07e",
   "metadata": {},
   "outputs": [],
   "source": [
    "!poetry add requests"
   ]
  },
  {
   "cell_type": "code",
   "execution_count": null,
   "id": "b03c9c4c",
   "metadata": {},
   "outputs": [],
   "source": [
    "!poetry add pydantic"
   ]
  }
 ],
 "metadata": {
  "kernelspec": {
   "display_name": "Python 3 (ipykernel)",
   "language": "python",
   "name": "python3"
  },
  "language_info": {
   "codemirror_mode": {
    "name": "ipython",
    "version": 3
   },
   "file_extension": ".py",
   "mimetype": "text/x-python",
   "name": "python",
   "nbconvert_exporter": "python",
   "pygments_lexer": "ipython3",
   "version": "3.10.6"
  }
 },
 "nbformat": 4,
 "nbformat_minor": 5
}
