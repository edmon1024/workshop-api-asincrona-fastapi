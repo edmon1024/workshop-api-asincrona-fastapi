{
 "cells": [
  {
   "cell_type": "markdown",
   "metadata": {},
   "source": [
    "## Paquete Pydantic"
   ]
  },
  {
   "cell_type": "markdown",
   "metadata": {},
   "source": [
    "Este paquete perimte crear clases que utilizan de forma estricta los indicadores de tipado y extienden los esquemas de validación.\n",
    "\n",
    "https://pydantic-docs.helpmanual.io/"
   ]
  },
  {
   "cell_type": "code",
   "execution_count": null,
   "metadata": {
    "scrolled": true
   },
   "outputs": [],
   "source": [
    "! pip install pydantic"
   ]
  },
  {
   "cell_type": "markdown",
   "metadata": {},
   "source": [
    "### La clase ```pydantic.BaseModel```.\n",
    "\n",
    "La clase ```BaseModel```permite crear subclases cuyos atributos son defindos con tipado estricto. \n",
    "\n",
    "Todos los atributos definidos sin asignarles un valor son considerados como argumentos obligatorios al instanciar las  subclases.\n",
    "\n",
    "https://pydantic-docs.helpmanual.io/usage/models/"
   ]
  },
  {
   "cell_type": "code",
   "execution_count": 3,
   "metadata": {
    "scrolled": true
   },
   "outputs": [],
   "source": [
    "from pydantic import BaseModel\n",
    "from typing import Literal"
   ]
  },
  {
   "cell_type": "code",
   "execution_count": 4,
   "metadata": {},
   "outputs": [],
   "source": [
    "carreras = ['Medicina', 'Sistemas', 'Derecho', 'Diseño', 'Arquitectura']"
   ]
  },
  {
   "cell_type": "code",
   "execution_count": 53,
   "metadata": {
    "scrolled": true
   },
   "outputs": [],
   "source": [
    "class Alumno(BaseModel):\n",
    "    cuenta: int\n",
    "    nombre: str\n",
    "    primer_apellido: str\n",
    "    segundo_apellido: str = ''\n",
    "    carrera: Literal[tuple(carreras)]\n",
    "    semestre: int\n",
    "    promedio: float\n",
    "    "
   ]
  },
  {
   "cell_type": "code",
   "execution_count": 54,
   "metadata": {
    "scrolled": true
   },
   "outputs": [],
   "source": [
    "datos = {'cuenta': 1234567,\n",
    "    'nombre': 'Juan',\n",
    "    'primer_apellido': 'Pérez',\n",
    "    'carrera': 'Medicina',\n",
    "    'semestre': 7,\n",
    "    'promedio': 6.5,\n",
    "}"
   ]
  },
  {
   "cell_type": "code",
   "execution_count": 55,
   "metadata": {},
   "outputs": [],
   "source": [
    "alumno = Alumno(**datos)"
   ]
  },
  {
   "cell_type": "code",
   "execution_count": 56,
   "metadata": {},
   "outputs": [
    {
     "data": {
      "text/plain": [
       "Alumno(cuenta=1234567, nombre='Juan', primer_apellido='Pérez', segundo_apellido='', carrera='Medicina', semestre=7, promedio=6.5)"
      ]
     },
     "execution_count": 56,
     "metadata": {},
     "output_type": "execute_result"
    }
   ],
   "source": [
    "alumno"
   ]
  },
  {
   "cell_type": "code",
   "execution_count": 9,
   "metadata": {
    "scrolled": true
   },
   "outputs": [
    {
     "data": {
      "text/plain": [
       "'Juan'"
      ]
     },
     "execution_count": 9,
     "metadata": {},
     "output_type": "execute_result"
    }
   ],
   "source": [
    "alumno.nombre"
   ]
  },
  {
   "cell_type": "code",
   "execution_count": 57,
   "metadata": {
    "scrolled": false
   },
   "outputs": [
    {
     "data": {
      "text/plain": [
       "{'cuenta': 1234567,\n",
       " 'nombre': 'Juan',\n",
       " 'primer_apellido': 'Pérez',\n",
       " 'segundo_apellido': '',\n",
       " 'carrera': 'Medicina',\n",
       " 'semestre': 7,\n",
       " 'promedio': 6.5}"
      ]
     },
     "execution_count": 57,
     "metadata": {},
     "output_type": "execute_result"
    }
   ],
   "source": [
    "dict(alumno)"
   ]
  },
  {
   "cell_type": "markdown",
   "metadata": {},
   "source": [
    "## La excepción ```pydantic.ValidationError```."
   ]
  },
  {
   "cell_type": "code",
   "execution_count": 11,
   "metadata": {},
   "outputs": [],
   "source": [
    "from pydantic import ValidationError"
   ]
  },
  {
   "cell_type": "code",
   "execution_count": 58,
   "metadata": {
    "scrolled": true
   },
   "outputs": [],
   "source": [
    "datos = {'cuenta': 1234567,\n",
    "    'nombre': 'Juan',\n",
    "    'primer_apellido': 'Pérez',\n",
    "    'carrera': 'Medicina',\n",
    "    'semestre': 7,\n",
    "    'promedio': 6.5\n",
    "}"
   ]
  },
  {
   "cell_type": "code",
   "execution_count": 59,
   "metadata": {
    "scrolled": true
   },
   "outputs": [],
   "source": [
    "try:\n",
    "    alumno = Alumno(**datos)\n",
    "except ValidationError as e:\n",
    "    print(f'Error de validación: {e}')"
   ]
  },
  {
   "cell_type": "code",
   "execution_count": 60,
   "metadata": {},
   "outputs": [
    {
     "data": {
      "text/plain": [
       "Alumno(cuenta=1234567, nombre='Juan', primer_apellido='Pérez', segundo_apellido='', carrera='Medicina', semestre=7, promedio=6.5)"
      ]
     },
     "execution_count": 60,
     "metadata": {},
     "output_type": "execute_result"
    }
   ],
   "source": [
    "alumno"
   ]
  },
  {
   "cell_type": "markdown",
   "metadata": {},
   "source": [
    "## Métodos de ```pydantic.BaseModel```."
   ]
  },
  {
   "cell_type": "markdown",
   "metadata": {},
   "source": [
    "### El método ```pydantic.BaseModel.schema()```."
   ]
  },
  {
   "cell_type": "code",
   "execution_count": 61,
   "metadata": {
    "scrolled": true
   },
   "outputs": [
    {
     "data": {
      "text/plain": [
       "{'title': 'Alumno',\n",
       " 'type': 'object',\n",
       " 'properties': {'cuenta': {'title': 'Cuenta', 'type': 'integer'},\n",
       "  'nombre': {'title': 'Nombre', 'type': 'string'},\n",
       "  'primer_apellido': {'title': 'Primer Apellido', 'type': 'string'},\n",
       "  'segundo_apellido': {'title': 'Segundo Apellido',\n",
       "   'default': '',\n",
       "   'type': 'string'},\n",
       "  'carrera': {'title': 'Carrera',\n",
       "   'enum': ['Medicina', 'Sistemas', 'Derecho', 'Diseño', 'Arquitectura'],\n",
       "   'type': 'string'},\n",
       "  'semestre': {'title': 'Semestre', 'type': 'integer'},\n",
       "  'promedio': {'title': 'Promedio', 'type': 'number'}},\n",
       " 'required': ['cuenta',\n",
       "  'nombre',\n",
       "  'primer_apellido',\n",
       "  'carrera',\n",
       "  'semestre',\n",
       "  'promedio']}"
      ]
     },
     "execution_count": 61,
     "metadata": {},
     "output_type": "execute_result"
    }
   ],
   "source": [
    "alumno.schema()"
   ]
  },
  {
   "cell_type": "markdown",
   "metadata": {},
   "source": [
    "### El método ```pydantic.BaseModel.schema_json()```."
   ]
  },
  {
   "cell_type": "code",
   "execution_count": 62,
   "metadata": {
    "scrolled": false
   },
   "outputs": [
    {
     "data": {
      "text/plain": [
       "'{\"title\": \"Alumno\", \"type\": \"object\", \"properties\": {\"cuenta\": {\"title\": \"Cuenta\", \"type\": \"integer\"}, \"nombre\": {\"title\": \"Nombre\", \"type\": \"string\"}, \"primer_apellido\": {\"title\": \"Primer Apellido\", \"type\": \"string\"}, \"segundo_apellido\": {\"title\": \"Segundo Apellido\", \"default\": \"\", \"type\": \"string\"}, \"carrera\": {\"title\": \"Carrera\", \"enum\": [\"Medicina\", \"Sistemas\", \"Derecho\", \"Dise\\\\u00f1o\", \"Arquitectura\"], \"type\": \"string\"}, \"semestre\": {\"title\": \"Semestre\", \"type\": \"integer\"}, \"promedio\": {\"title\": \"Promedio\", \"type\": \"number\"}}, \"required\": [\"cuenta\", \"nombre\", \"primer_apellido\", \"carrera\", \"semestre\", \"promedio\"]}'"
      ]
     },
     "execution_count": 62,
     "metadata": {},
     "output_type": "execute_result"
    }
   ],
   "source": [
    "alumno.schema_json()"
   ]
  },
  {
   "cell_type": "markdown",
   "metadata": {},
   "source": [
    "### El método ```pydantic.BaseModel.dict()```."
   ]
  },
  {
   "cell_type": "code",
   "execution_count": 63,
   "metadata": {
    "scrolled": false
   },
   "outputs": [
    {
     "data": {
      "text/plain": [
       "{'cuenta': 1234567,\n",
       " 'nombre': 'Juan',\n",
       " 'primer_apellido': 'Pérez',\n",
       " 'segundo_apellido': '',\n",
       " 'carrera': 'Medicina',\n",
       " 'semestre': 7,\n",
       " 'promedio': 6.5}"
      ]
     },
     "execution_count": 63,
     "metadata": {},
     "output_type": "execute_result"
    }
   ],
   "source": [
    "alumno.dict()"
   ]
  },
  {
   "cell_type": "markdown",
   "metadata": {},
   "source": [
    "### El método ```pydantic.BaseModel.json()```."
   ]
  },
  {
   "cell_type": "code",
   "execution_count": 64,
   "metadata": {
    "scrolled": false
   },
   "outputs": [
    {
     "data": {
      "text/plain": [
       "'{\"cuenta\": 1234567, \"nombre\": \"Juan\", \"primer_apellido\": \"P\\\\u00e9rez\", \"segundo_apellido\": \"\", \"carrera\": \"Medicina\", \"semestre\": 7, \"promedio\": 6.5}'"
      ]
     },
     "execution_count": 64,
     "metadata": {},
     "output_type": "execute_result"
    }
   ],
   "source": [
    "alumno.json()"
   ]
  },
  {
   "cell_type": "markdown",
   "metadata": {},
   "source": [
    "## La función ```pydantic.validator()```.\n",
    "\n",
    "https://pydantic-docs.helpmanual.io/usage/validators/"
   ]
  },
  {
   "cell_type": "code",
   "execution_count": 19,
   "metadata": {
    "scrolled": true
   },
   "outputs": [],
   "source": [
    "from pydantic import validator"
   ]
  },
  {
   "cell_type": "code",
   "execution_count": 74,
   "metadata": {
    "scrolled": true
   },
   "outputs": [],
   "source": [
    "class UserModel(BaseModel):\n",
    "    name: str\n",
    "    username: str\n",
    "\n",
    "    @validator('name')\n",
    "    def name_must_contain_space(cls, v):\n",
    "        if ' ' not in v:\n",
    "            raise ValueError('must contain a space')\n",
    "        return v.title()\n",
    "\n",
    "    @validator('username')\n",
    "    def username_alphanumeric(cls, v):\n",
    "        assert v.isalnum(), 'must be alphanumeric'\n",
    "        return v"
   ]
  },
  {
   "cell_type": "code",
   "execution_count": 75,
   "metadata": {
    "scrolled": true
   },
   "outputs": [
    {
     "data": {
      "text/plain": [
       "{'title': 'UserModel',\n",
       " 'type': 'object',\n",
       " 'properties': {'name': {'title': 'Name', 'type': 'string'},\n",
       "  'username': {'title': 'Username', 'type': 'string'}},\n",
       " 'required': ['name', 'username']}"
      ]
     },
     "execution_count": 75,
     "metadata": {},
     "output_type": "execute_result"
    }
   ],
   "source": [
    "UserModel(name=\"Juan Perez\", username=\"josec\").schema()"
   ]
  },
  {
   "cell_type": "code",
   "execution_count": 77,
   "metadata": {},
   "outputs": [],
   "source": [
    "alumno = UserModel(name=\"Juan Perez\", username=\"juanp\")"
   ]
  },
  {
   "cell_type": "code",
   "execution_count": 78,
   "metadata": {},
   "outputs": [
    {
     "data": {
      "text/plain": [
       "{'name': 'Juan Perez', 'username': 'juanp'}"
      ]
     },
     "execution_count": 78,
     "metadata": {},
     "output_type": "execute_result"
    }
   ],
   "source": [
    "alumno.dict()"
   ]
  },
  {
   "cell_type": "code",
   "execution_count": 79,
   "metadata": {
    "scrolled": false
   },
   "outputs": [
    {
     "data": {
      "text/plain": [
       "['Config',\n",
       " '__abstractmethods__',\n",
       " '__annotations__',\n",
       " '__class__',\n",
       " '__class_vars__',\n",
       " '__config__',\n",
       " '__custom_root_type__',\n",
       " '__delattr__',\n",
       " '__dict__',\n",
       " '__dir__',\n",
       " '__doc__',\n",
       " '__eq__',\n",
       " '__exclude_fields__',\n",
       " '__fields__',\n",
       " '__fields_set__',\n",
       " '__format__',\n",
       " '__ge__',\n",
       " '__get_validators__',\n",
       " '__getattribute__',\n",
       " '__getstate__',\n",
       " '__gt__',\n",
       " '__hash__',\n",
       " '__include_fields__',\n",
       " '__init__',\n",
       " '__init_subclass__',\n",
       " '__iter__',\n",
       " '__json_encoder__',\n",
       " '__le__',\n",
       " '__lt__',\n",
       " '__module__',\n",
       " '__ne__',\n",
       " '__new__',\n",
       " '__post_root_validators__',\n",
       " '__pre_root_validators__',\n",
       " '__pretty__',\n",
       " '__private_attributes__',\n",
       " '__reduce__',\n",
       " '__reduce_ex__',\n",
       " '__repr__',\n",
       " '__repr_args__',\n",
       " '__repr_name__',\n",
       " '__repr_str__',\n",
       " '__rich_repr__',\n",
       " '__schema_cache__',\n",
       " '__setattr__',\n",
       " '__setstate__',\n",
       " '__signature__',\n",
       " '__sizeof__',\n",
       " '__slots__',\n",
       " '__str__',\n",
       " '__subclasshook__',\n",
       " '__try_update_forward_refs__',\n",
       " '__validators__',\n",
       " '_abc_impl',\n",
       " '_calculate_keys',\n",
       " '_copy_and_set_values',\n",
       " '_decompose_class',\n",
       " '_enforce_dict_if_root',\n",
       " '_get_value',\n",
       " '_init_private_attributes',\n",
       " '_iter',\n",
       " 'construct',\n",
       " 'copy',\n",
       " 'dict',\n",
       " 'from_orm',\n",
       " 'json',\n",
       " 'name',\n",
       " 'name_must_contain_space',\n",
       " 'parse_file',\n",
       " 'parse_obj',\n",
       " 'parse_raw',\n",
       " 'schema',\n",
       " 'schema_json',\n",
       " 'update_forward_refs',\n",
       " 'username',\n",
       " 'username_alphanumeric',\n",
       " 'validate']"
      ]
     },
     "execution_count": 79,
     "metadata": {},
     "output_type": "execute_result"
    }
   ],
   "source": [
    "dir(alumno)"
   ]
  },
  {
   "cell_type": "markdown",
   "metadata": {},
   "source": [
    "## Los  tipos de datos aceptados por ```pydantic```."
   ]
  },
  {
   "cell_type": "markdown",
   "metadata": {},
   "source": [
    "https://pydantic-docs.helpmanual.io/usage/types/#standard-library-types"
   ]
  },
  {
   "cell_type": "markdown",
   "metadata": {},
   "source": [
    "https://pydantic-docs.helpmanual.io/usage/types/#strict-typesv"
   ]
  },
  {
   "cell_type": "markdown",
   "metadata": {},
   "source": [
    "https://pydantic-docs.helpmanual.io/usage/types/#constrained-types"
   ]
  },
  {
   "cell_type": "markdown",
   "metadata": {},
   "source": [
    "## La función ```pydantic.Field```."
   ]
  },
  {
   "cell_type": "markdown",
   "metadata": {},
   "source": [
    "https://pydantic-docs.helpmanual.io/usage/schema/#field-customization"
   ]
  },
  {
   "cell_type": "code",
   "execution_count": 34,
   "metadata": {},
   "outputs": [],
   "source": [
    "from pydantic import Field, PositiveInt\n",
    "from enum import Enum"
   ]
  },
  {
   "cell_type": "code",
   "execution_count": 65,
   "metadata": {},
   "outputs": [],
   "source": [
    "class Carreras(Enum):\n",
    "    derecho = \"Derecho\"\n",
    "    sistemas = \"Sistemas\"\n",
    "    actuaria = \"Actuaria\"\n",
    "    administracion = \"Administración\""
   ]
  },
  {
   "cell_type": "code",
   "execution_count": 36,
   "metadata": {},
   "outputs": [],
   "source": [
    "class Alumno(BaseModel):\n",
    "    cuenta: int = Field(default= 5000000, ge=1000000, le=9999999)\n",
    "    nombre: str\n",
    "    primer_apellido: str\n",
    "    segundo_apellido: str = ''\n",
    "    carrera: Carreras\n",
    "    semestre: PositiveInt\n",
    "    promedio: float = Field(ge=0, le=10)"
   ]
  },
  {
   "cell_type": "code",
   "execution_count": 66,
   "metadata": {},
   "outputs": [],
   "source": [
    "datos = {'cuenta': 1234567,\n",
    "    'nombre': 'Juan',\n",
    "    'primer_apellido': 'Pérez',\n",
    "    'carrera': 'Medicina',\n",
    "    'semestre': 7,\n",
    "    'promedio': 6.5\n",
    "}"
   ]
  },
  {
   "cell_type": "code",
   "execution_count": 67,
   "metadata": {},
   "outputs": [
    {
     "data": {
      "text/plain": [
       "Alumno(cuenta=1234567, nombre='Juan', primer_apellido='Pérez', segundo_apellido='', carrera='Medicina', semestre=7, promedio=6.5)"
      ]
     },
     "execution_count": 67,
     "metadata": {},
     "output_type": "execute_result"
    }
   ],
   "source": [
    "Alumno(**datos)"
   ]
  },
  {
   "cell_type": "code",
   "execution_count": 70,
   "metadata": {},
   "outputs": [],
   "source": [
    "datos = {'cuenta': 1234567,\n",
    "    'nombre': 'Juan',\n",
    "    'primer_apellido': 'Pérez',\n",
    "    'carrera': 'Administración',\n",
    "    'semestre': 7,\n",
    "    'promedio': 6.5\n",
    "}"
   ]
  },
  {
   "cell_type": "code",
   "execution_count": 71,
   "metadata": {},
   "outputs": [
    {
     "ename": "ValidationError",
     "evalue": "1 validation error for Alumno\ncarrera\n  unexpected value; permitted: 'Medicina', 'Sistemas', 'Derecho', 'Diseño', 'Arquitectura' (type=value_error.const; given=Administración; permitted=('Medicina', 'Sistemas', 'Derecho', 'Diseño', 'Arquitectura'))",
     "output_type": "error",
     "traceback": [
      "\u001b[0;31m---------------------------------------------------------------------------\u001b[0m",
      "\u001b[0;31mValidationError\u001b[0m                           Traceback (most recent call last)",
      "Cell \u001b[0;32mIn [71], line 1\u001b[0m\n\u001b[0;32m----> 1\u001b[0m alumno \u001b[38;5;241m=\u001b[39m \u001b[43mAlumno\u001b[49m\u001b[43m(\u001b[49m\u001b[38;5;241;43m*\u001b[39;49m\u001b[38;5;241;43m*\u001b[39;49m\u001b[43mdatos\u001b[49m\u001b[43m)\u001b[49m\n",
      "File \u001b[0;32m~/.local/lib/python3.10/site-packages/pydantic/main.py:342\u001b[0m, in \u001b[0;36mpydantic.main.BaseModel.__init__\u001b[0;34m()\u001b[0m\n",
      "\u001b[0;31mValidationError\u001b[0m: 1 validation error for Alumno\ncarrera\n  unexpected value; permitted: 'Medicina', 'Sistemas', 'Derecho', 'Diseño', 'Arquitectura' (type=value_error.const; given=Administración; permitted=('Medicina', 'Sistemas', 'Derecho', 'Diseño', 'Arquitectura'))"
     ]
    }
   ],
   "source": [
    "alumno = Alumno(**datos)"
   ]
  },
  {
   "cell_type": "code",
   "execution_count": 72,
   "metadata": {},
   "outputs": [
    {
     "name": "stdout",
     "output_type": "stream",
     "text": [
      "{\n",
      "   \"title\": \"Alumno\",\n",
      "   \"type\": \"object\",\n",
      "   \"properties\": {\n",
      "      \"cuenta\": {\n",
      "         \"title\": \"Cuenta\",\n",
      "         \"type\": \"integer\"\n",
      "      },\n",
      "      \"nombre\": {\n",
      "         \"title\": \"Nombre\",\n",
      "         \"type\": \"string\"\n",
      "      },\n",
      "      \"primer_apellido\": {\n",
      "         \"title\": \"Primer Apellido\",\n",
      "         \"type\": \"string\"\n",
      "      },\n",
      "      \"segundo_apellido\": {\n",
      "         \"title\": \"Segundo Apellido\",\n",
      "         \"default\": \"\",\n",
      "         \"type\": \"string\"\n",
      "      },\n",
      "      \"carrera\": {\n",
      "         \"title\": \"Carrera\",\n",
      "         \"enum\": [\n",
      "            \"Medicina\",\n",
      "            \"Sistemas\",\n",
      "            \"Derecho\",\n",
      "            \"Dise\\u00f1o\",\n",
      "            \"Arquitectura\"\n",
      "         ],\n",
      "         \"type\": \"string\"\n",
      "      },\n",
      "      \"semestre\": {\n",
      "         \"title\": \"Semestre\",\n",
      "         \"type\": \"integer\"\n",
      "      },\n",
      "      \"promedio\": {\n",
      "         \"title\": \"Promedio\",\n",
      "         \"type\": \"number\"\n",
      "      }\n",
      "   },\n",
      "   \"required\": [\n",
      "      \"cuenta\",\n",
      "      \"nombre\",\n",
      "      \"primer_apellido\",\n",
      "      \"carrera\",\n",
      "      \"semestre\",\n",
      "      \"promedio\"\n",
      "   ]\n",
      "}\n"
     ]
    }
   ],
   "source": [
    "print(alumno.schema_json(indent=3))"
   ]
  },
  {
   "cell_type": "code",
   "execution_count": null,
   "metadata": {},
   "outputs": [],
   "source": []
  }
 ],
 "metadata": {
  "kernelspec": {
   "display_name": "Python 3 (ipykernel)",
   "language": "python",
   "name": "python3"
  },
  "language_info": {
   "codemirror_mode": {
    "name": "ipython",
    "version": 3
   },
   "file_extension": ".py",
   "mimetype": "text/x-python",
   "name": "python",
   "nbconvert_exporter": "python",
   "pygments_lexer": "ipython3",
   "version": "3.10.6"
  }
 },
 "nbformat": 4,
 "nbformat_minor": 2
}
