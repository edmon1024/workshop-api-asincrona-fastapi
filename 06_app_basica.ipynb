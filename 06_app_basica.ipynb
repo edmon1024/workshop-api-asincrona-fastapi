{
 "cells": [
  {
   "cell_type": "markdown",
   "id": "d00ab757",
   "metadata": {},
   "source": [
    "## Creación de una app básica con FastAPI"
   ]
  },
  {
   "cell_type": "markdown",
   "id": "13653e0e",
   "metadata": {},
   "source": [
    "#### Creación de una carpeta para su primer proyecto"
   ]
  },
  {
   "cell_type": "code",
   "execution_count": 7,
   "id": "3824f74b",
   "metadata": {},
   "outputs": [],
   "source": [
    "### Instalación de dependencias"
   ]
  },
  {
   "cell_type": "code",
   "execution_count": 10,
   "id": "79d30703",
   "metadata": {},
   "outputs": [
    {
     "name": "stdout",
     "output_type": "stream",
     "text": [
      "\r\n",
      "\u001b[31;1mDestination \u001b[39;22m\u001b[33m/home/eandrade/repos/personal/workshop-api-asincrona-fastapi/project01\u001b[39m\u001b[31;1m exists and is not empty\u001b[39;22m\r\n"
     ]
    }
   ],
   "source": [
    "!poetry new project01"
   ]
  },
  {
   "cell_type": "code",
   "execution_count": null,
   "id": "10c05048",
   "metadata": {},
   "outputs": [],
   "source": [
    "!cd project01"
   ]
  },
  {
   "cell_type": "code",
   "execution_count": 9,
   "id": "d451a984",
   "metadata": {},
   "outputs": [
    {
     "name": "stdout",
     "output_type": "stream",
     "text": [
      "\r\n",
      "\u001b[31;1mPoetry could not find a pyproject.toml file in /home/eandrade/repos/personal/workshop-api-asincrona-fastapi or its parents\u001b[39;22m\r\n"
     ]
    }
   ],
   "source": [
    "!poetry shell"
   ]
  },
  {
   "cell_type": "markdown",
   "id": "9f22566f",
   "metadata": {},
   "source": [
    "### Instalar dependencias necesarias"
   ]
  },
  {
   "cell_type": "code",
   "execution_count": null,
   "id": "36ddbe55",
   "metadata": {},
   "outputs": [],
   "source": [
    "poetry add fastapi uvicorn"
   ]
  },
  {
   "cell_type": "markdown",
   "id": "7c827947",
   "metadata": {},
   "source": [
    "### Crear archivo main.py con la siguiente información"
   ]
  },
  {
   "cell_type": "markdown",
   "id": "22b07eda",
   "metadata": {},
   "source": [
    "```python\n",
    "from fastapi import FastAPI\n",
    "\n",
    "app = FastAPI()\n",
    "\n",
    "\n",
    "@app.get(\"/\")\n",
    "async def root():\n",
    "    return {\"message\": \"Hello World\"}\n",
    "```"
   ]
  },
  {
   "cell_type": "markdown",
   "id": "4ca1d726",
   "metadata": {},
   "source": [
    "### Ingresar al entorno virtual de poetry"
   ]
  },
  {
   "cell_type": "code",
   "execution_count": 20,
   "id": "be54641a",
   "metadata": {},
   "outputs": [
    {
     "name": "stdout",
     "output_type": "stream",
     "text": [
      "\r\n",
      "\u001b[31;1mPoetry could not find a pyproject.toml file in /home/eandrade/repos/personal/workshop-api-asincrona-fastapi or its parents\u001b[39;22m\r\n"
     ]
    }
   ],
   "source": [
    "!poetry shell"
   ]
  },
  {
   "cell_type": "markdown",
   "id": "ad586a4c",
   "metadata": {},
   "source": [
    "### Correr nuestro servidor"
   ]
  },
  {
   "cell_type": "code",
   "execution_count": 21,
   "id": "d5dfb6a8",
   "metadata": {},
   "outputs": [
    {
     "name": "stdout",
     "output_type": "stream",
     "text": [
      "\u001b[32mINFO\u001b[0m:     Will watch for changes in these directories: ['/home/eandrade/repos/personal/workshop-api-asincrona-fastapi']\r\n",
      "\u001b[31mERROR\u001b[0m:    [Errno 98] Address already in use\r\n"
     ]
    }
   ],
   "source": [
    "!uvicorn main:app --reload"
   ]
  },
  {
   "cell_type": "code",
   "execution_count": null,
   "id": "a0a9ef8b",
   "metadata": {},
   "outputs": [],
   "source": []
  }
 ],
 "metadata": {
  "kernelspec": {
   "display_name": "Python 3 (ipykernel)",
   "language": "python",
   "name": "python3"
  },
  "language_info": {
   "codemirror_mode": {
    "name": "ipython",
    "version": 3
   },
   "file_extension": ".py",
   "mimetype": "text/x-python",
   "name": "python",
   "nbconvert_exporter": "python",
   "pygments_lexer": "ipython3",
   "version": "3.10.6"
  }
 },
 "nbformat": 4,
 "nbformat_minor": 5
}
