{
 "cells": [
  {
   "cell_type": "markdown",
   "id": "1a20be26",
   "metadata": {},
   "source": [
    "## Tipado en Python"
   ]
  },
  {
   "cell_type": "markdown",
   "id": "d280ff57",
   "metadata": {},
   "source": [
    "El intérprete de *Python* puede inferir el tipo de dato (clase) a la que pertenece un objeto a partir de su sintaxis, por lo que no es necesario definir su tipo al declarar una variable. Incluso es posible reutilizar un nombre para objetos de distinto tipo/clase."
   ]
  },
  {
   "cell_type": "code",
   "execution_count": 7,
   "id": "5e04b7a3",
   "metadata": {},
   "outputs": [],
   "source": [
    "value = \"hola mundo! \""
   ]
  },
  {
   "cell_type": "code",
   "execution_count": 8,
   "id": "7b27677d",
   "metadata": {},
   "outputs": [
    {
     "data": {
      "text/plain": [
       "'hola mundo! hola mundo! hola mundo! '"
      ]
     },
     "execution_count": 8,
     "metadata": {},
     "output_type": "execute_result"
    }
   ],
   "source": [
    "value * 3"
   ]
  },
  {
   "cell_type": "code",
   "execution_count": 9,
   "id": "59bedbab",
   "metadata": {},
   "outputs": [
    {
     "data": {
      "text/plain": [
       "str"
      ]
     },
     "execution_count": 9,
     "metadata": {},
     "output_type": "execute_result"
    }
   ],
   "source": [
    "type(value)"
   ]
  },
  {
   "cell_type": "markdown",
   "id": "30f35861",
   "metadata": {},
   "source": [
    "#### Type hints\n",
    "\n",
    "Pistas de tipo para asignación de nombres a objetos.\n",
    "Para definir una variable con un tipo específico se puede utilizar la siguiente sintaxis:\n",
    "\n",
    "```\n",
    "<nombre>:<tipo> = <obj>\n",
    "```\n",
    "\n",
    "Donde:\n",
    "\n",
    "\n",
    "* ```<nombre>``` es el nombre que se le asigna al objeto que se está definiendo.\n",
    "* ```<tipo>``` es la clase o tipo de objeto que se sugiere que corresponda al nombre.\n",
    "* ```<obj>``` es el objeto  que se le asigna el nombre. En caso de no asignar ningún objeto, ```<nombre>``` no será añadido al espacio de nombres."
   ]
  },
  {
   "cell_type": "code",
   "execution_count": 10,
   "id": "43d8c52b",
   "metadata": {},
   "outputs": [],
   "source": [
    "x: str = 1"
   ]
  },
  {
   "cell_type": "code",
   "execution_count": 11,
   "id": "93cd58c3",
   "metadata": {},
   "outputs": [
    {
     "data": {
      "text/plain": [
       "int"
      ]
     },
     "execution_count": 11,
     "metadata": {},
     "output_type": "execute_result"
    }
   ],
   "source": [
    "type(x)"
   ]
  }
 ],
 "metadata": {
  "kernelspec": {
   "display_name": "Python 3 (ipykernel)",
   "language": "python",
   "name": "python3"
  },
  "language_info": {
   "codemirror_mode": {
    "name": "ipython",
    "version": 3
   },
   "file_extension": ".py",
   "mimetype": "text/x-python",
   "name": "python",
   "nbconvert_exporter": "python",
   "pygments_lexer": "ipython3",
   "version": "3.10.6"
  }
 },
 "nbformat": 4,
 "nbformat_minor": 5
}
